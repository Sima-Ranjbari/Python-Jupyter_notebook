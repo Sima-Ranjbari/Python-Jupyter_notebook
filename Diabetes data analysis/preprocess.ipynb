{
 "cells": [
  {
   "cell_type": "code",
   "execution_count": null,
   "metadata": {},
   "outputs": [],
   "source": [
    "import time\n",
    "import os\n",
    "import gc\n",
    "import itertools\n",
    "import numpy as np\n",
    "import pandas as pd\n",
    "from sklearn import preprocessing\n",
    "from sklearn.model_selection import train_test_split\n",
    "from keras.utils import to_categorical\n",
    "from sklearn.metrics import mutual_info_score\n",
    "\n",
    "%matplotlib inline\n"
   ]
  },
  {
   "cell_type": "code",
   "execution_count": null,
   "metadata": {},
   "outputs": [],
   "source": [
    "data = pd.read_csv('diabetic_data.csv')"
   ]
  },
  {
   "cell_type": "code",
   "execution_count": null,
   "metadata": {},
   "outputs": [],
   "source": [
    "data.shape"
   ]
  },
  {
   "cell_type": "code",
   "execution_count": null,
   "metadata": {},
   "outputs": [],
   "source": [
    "data.drop(['encounter_id', 'patient_nbr'], axis=1 , inplace=True)"
   ]
  },
  {
   "cell_type": "code",
   "execution_count": null,
   "metadata": {},
   "outputs": [],
   "source": [
    "percent_missing = data.isnull().sum() * 100 / len(data)\n",
    "missing_value_data = pd.DataFrame({'num missing': data.isnull().sum(),\n",
    "                                 'percent_missing': percent_missing})\n",
    "missing_value_data.sort_values('percent_missing',ascending=False,inplace=True)\n",
    "missing_value_data"
   ]
  },
  {
   "cell_type": "code",
   "execution_count": null,
   "metadata": {},
   "outputs": [],
   "source": [
    "(data == 0).astype(int).sum(axis=0)\n",
    "percent_zero = (data == 0).astype(int).sum(axis=0) * 100 / len(data)\n",
    "zero_value_data = pd.DataFrame({'num zero': (data == 0).astype(int).sum(axis=0),\n",
    "                                 'percent_zero': percent_zero})\n",
    "zero_value_data.sort_values('percent_zero',ascending=False,inplace=True)\n",
    "zero_value_data"
   ]
  },
  {
   "cell_type": "code",
   "execution_count": null,
   "metadata": {},
   "outputs": [],
   "source": [
    "y = data['diabetesMed']\n",
    "y.value_counts()"
   ]
  },
  {
   "cell_type": "code",
   "execution_count": null,
   "metadata": {},
   "outputs": [],
   "source": [
    "def preprocess(data):\n",
    "        numerical = []\n",
    "        categorical = []\n",
    "        for f in data.drop(labels=['diabetesMed'], axis=1).columns:\n",
    "            if data[f].dtype != 'object' and data[f].dtype != 'float64':\n",
    "                categorical.append(f)\n",
    "        for f in data.drop(labels=['diabetesMed'], axis=1).columns:\n",
    "            if data[f].dtype == 'float64':\n",
    "                numerical.append(f)\n",
    "        for f in data.drop(labels=['diabetesMed'], axis=1).columns:\n",
    "            le = preprocessing.LabelEncoder()\n",
    "            if data[f].dtype == 'object':\n",
    "                data[f] = le.fit_transform(data[f].apply(str))\n",
    "                categorical.append(f)\n",
    "        x = data[numerical + categorical]\n",
    "        y = data['diabetesMed']\n",
    "        to_drop = []\n",
    "        return x, y, numerical, categorical\n",
    "\n",
    "x, y, numerical, categorical = preprocess(data=data)"
   ]
  },
  {
   "cell_type": "code",
   "execution_count": null,
   "metadata": {},
   "outputs": [],
   "source": [
    "for f in x.columns:\n",
    "    if mutual_info_score(x[f], y) < 0.0001:\n",
    "        print(mutual_info_score(x[f], y))\n",
    "        del x[f]"
   ]
  },
  {
   "cell_type": "code",
   "execution_count": null,
   "metadata": {},
   "outputs": [],
   "source": [
    "train_df, test_df, y_train, y_test = train_test_split(x, y, test_size=0.3, random_state=666) # 20 % data is hold out of traning"
   ]
  },
  {
   "cell_type": "code",
   "execution_count": null,
   "metadata": {},
   "outputs": [],
   "source": [
    "train=pd.concat([train_df,y_train], axis=1)\n",
    "test=pd.concat([test_df,y_test], axis=1)"
   ]
  },
  {
   "cell_type": "code",
   "execution_count": null,
   "metadata": {},
   "outputs": [],
   "source": [
    "train.to_csv('diabete_train.csv')\n",
    "test.to_csv('diabete_test.csv')"
   ]
  }
 ],
 "metadata": {
  "kernelspec": {
   "display_name": "Python 3",
   "language": "python",
   "name": "python3"
  },
  "language_info": {
   "codemirror_mode": {
    "name": "ipython",
    "version": 3
   },
   "file_extension": ".py",
   "mimetype": "text/x-python",
   "name": "python",
   "nbconvert_exporter": "python",
   "pygments_lexer": "ipython3",
   "version": "3.6.8"
  }
 },
 "nbformat": 4,
 "nbformat_minor": 2
}
